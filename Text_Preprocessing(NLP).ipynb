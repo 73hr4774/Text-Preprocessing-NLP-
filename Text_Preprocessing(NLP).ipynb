{
  "nbformat": 4,
  "nbformat_minor": 0,
  "metadata": {
    "colab": {
      "provenance": [],
      "authorship_tag": "ABX9TyMbjHL+HKE1fDKnTTnR4FBK",
      "include_colab_link": true
    },
    "kernelspec": {
      "name": "python3",
      "display_name": "Python 3"
    },
    "language_info": {
      "name": "python"
    }
  },
  "cells": [
    {
      "cell_type": "markdown",
      "metadata": {
        "id": "view-in-github",
        "colab_type": "text"
      },
      "source": [
        "<a href=\"https://colab.research.google.com/github/73hr4774/Text-Preprocessing-NLP-/blob/main/Text_Preprocessing(NLP).ipynb\" target=\"_parent\"><img src=\"https://colab.research.google.com/assets/colab-badge.svg\" alt=\"Open In Colab\"/></a>"
      ]
    },
    {
      "cell_type": "markdown",
      "source": [
        "# **Text Preprocessing- NLP**"
      ],
      "metadata": {
        "id": "hmTOnYN1HK-E"
      }
    },
    {
      "cell_type": "code",
      "source": [
        "# !pip install nltk"
      ],
      "metadata": {
        "id": "7FOE136oHVwi"
      },
      "execution_count": 1,
      "outputs": []
    },
    {
      "cell_type": "markdown",
      "source": [
        "# Importing Necessary Libraries"
      ],
      "metadata": {
        "id": "XHTmjVaHHhi_"
      }
    },
    {
      "cell_type": "code",
      "source": [
        "import nltk\n",
        "from nltk.corpus import stopwords\n",
        "from nltk.tokenize import word_tokenize\n",
        "import string\n",
        "import warnings\n",
        "warnings.filterwarnings(\"ignore\")"
      ],
      "metadata": {
        "id": "5B2dZCDkIOIU"
      },
      "execution_count": 2,
      "outputs": []
    },
    {
      "cell_type": "markdown",
      "source": [
        "# Sample text"
      ],
      "metadata": {
        "id": "S6NaXXShIB_3"
      }
    },
    {
      "cell_type": "code",
      "source": [
        "text=\"This is a simple example: we're going to preprocess this text, removing stopwords and punctuation.\""
      ],
      "metadata": {
        "id": "iAa2om1qIAUE"
      },
      "execution_count": 3,
      "outputs": []
    },
    {
      "cell_type": "markdown",
      "source": [
        "#Tokenization"
      ],
      "metadata": {
        "id": "l7LDdWUYIXPR"
      }
    },
    {
      "cell_type": "code",
      "source": [
        "nltk.download('punkt_tab')"
      ],
      "metadata": {
        "id": "-_1jzFP3Iu4f",
        "colab": {
          "base_uri": "https://localhost:8080/"
        },
        "outputId": "f9094213-ffd4-4a50-9b98-48b38e9248a2"
      },
      "execution_count": 4,
      "outputs": [
        {
          "output_type": "stream",
          "name": "stderr",
          "text": [
            "[nltk_data] Downloading package punkt_tab to /root/nltk_data...\n",
            "[nltk_data]   Unzipping tokenizers/punkt_tab.zip.\n"
          ]
        },
        {
          "output_type": "execute_result",
          "data": {
            "text/plain": [
              "True"
            ]
          },
          "metadata": {},
          "execution_count": 4
        }
      ]
    },
    {
      "cell_type": "code",
      "source": [
        "words=word_tokenize(text)"
      ],
      "metadata": {
        "id": "ilfcI_oIJg2N"
      },
      "execution_count": 5,
      "outputs": []
    },
    {
      "cell_type": "markdown",
      "source": [
        "# Text cleaning"
      ],
      "metadata": {
        "id": "oPm9PSxzJnKg"
      }
    },
    {
      "cell_type": "code",
      "source": [
        "# removing punctuation and convert to lowercase\n",
        "cleaned_words=[word.lower() for word in words if word.isalpha()]"
      ],
      "metadata": {
        "id": "Fi0CzR91Jl7f"
      },
      "execution_count": 6,
      "outputs": []
    },
    {
      "cell_type": "markdown",
      "source": [
        "# Stop words removal"
      ],
      "metadata": {
        "id": "pJV6kkjgKDMc"
      }
    },
    {
      "cell_type": "code",
      "source": [
        "nltk.download('stopwords')\n",
        "stop_words=set(stopwords.words('english'))\n",
        "filtered_words=[word for word in cleaned_words if word not in stop_words]"
      ],
      "metadata": {
        "id": "PMBOSfKBJ8OO",
        "colab": {
          "base_uri": "https://localhost:8080/"
        },
        "outputId": "7684c9f9-d1c0-4587-b92d-1cc3efb112bb"
      },
      "execution_count": 7,
      "outputs": [
        {
          "output_type": "stream",
          "name": "stderr",
          "text": [
            "[nltk_data] Downloading package stopwords to /root/nltk_data...\n",
            "[nltk_data]   Unzipping corpora/stopwords.zip.\n"
          ]
        }
      ]
    },
    {
      "cell_type": "markdown",
      "source": [
        "# Print Results"
      ],
      "metadata": {
        "id": "EREYIP4Iopj0"
      }
    },
    {
      "cell_type": "code",
      "source": [
        "print('Original Text:')\n",
        "print(text)\n",
        "\n",
        "print('\\nTokenized Text:')\n",
        "print(words)\n",
        "\n",
        "print('\\nCleaned and Stop Words Removed:')\n",
        "print(filtered_words)"
      ],
      "metadata": {
        "colab": {
          "base_uri": "https://localhost:8080/"
        },
        "id": "0zPz6GDFoA8A",
        "outputId": "a312e80b-bdf5-4063-cae9-28426e50f468"
      },
      "execution_count": 11,
      "outputs": [
        {
          "output_type": "stream",
          "name": "stdout",
          "text": [
            "Original Text:\n",
            "This is a simple example: we're going to preprocess this text, removing stopwords and punctuation.\n",
            "\n",
            "Tokenized Text:\n",
            "['This', 'is', 'a', 'simple', 'example', ':', 'we', \"'re\", 'going', 'to', 'preprocess', 'this', 'text', ',', 'removing', 'stopwords', 'and', 'punctuation', '.']\n",
            "\n",
            "Cleaned and Stop Words Removed:\n",
            "['simple', 'example', 'going', 'preprocess', 'text', 'removing', 'stopwords', 'punctuation']\n"
          ]
        }
      ]
    },
    {
      "cell_type": "code",
      "source": [],
      "metadata": {
        "id": "PDTfFZcEqJZP"
      },
      "execution_count": null,
      "outputs": []
    }
  ]
}